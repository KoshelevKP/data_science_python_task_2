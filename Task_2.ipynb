{
 "cells": [
  {
   "cell_type": "code",
   "execution_count": 29,
   "metadata": {},
   "outputs": [
    {
     "name": "stdout",
     "output_type": "stream",
     "text": [
      "{'visit1': ['Москва', 'Россия'], 'visit3': ['Владимир', 'Россия'], 'visit7': ['Тула', 'Россия'], 'visit8': ['Тула', 'Россия'], 'visit9': ['Курск', 'Россия'], 'visit10': ['Архангельск', 'Россия']}\n"
     ]
    }
   ],
   "source": [
    "#Задание 1\n",
    "\n",
    "geo_logs = {\n",
    "\n",
    "'visit1': ['Москва', 'Россия'],\n",
    "\n",
    "'visit2': ['Дели', 'Индия'],\n",
    "\n",
    "'visit3': ['Владимир', 'Россия'],\n",
    "\n",
    "'visit4': ['Лиссабон', 'Португалия'],\n",
    "\n",
    "'visit5': ['Париж', 'Франция'],\n",
    "\n",
    "'visit6': ['Лиссабон', 'Португалия'],\n",
    "\n",
    "'visit7': ['Тула', 'Россия'],\n",
    "\n",
    "'visit8': ['Тула', 'Россия'],\n",
    "\n",
    "'visit9': ['Курск', 'Россия'],\n",
    "\n",
    "'visit10': ['Архангельск', 'Россия'],\n",
    "\n",
    "}\n",
    "\n",
    "geo_logs_filter = dict() #Словарь с фильтрованными значениями\n",
    "\n",
    "for visit, country in geo_logs.items(): #Цикл проверки всех значений в словаре\n",
    "    if 'Россия' in country: #Если в списке стран есть Россия\n",
    "        geo_logs_filter.update({visit: country}) #Добавить информацию в фильтрованный список\n",
    "\n",
    "print(geo_logs_filter)"
   ]
  },
  {
   "cell_type": "code",
   "execution_count": 36,
   "metadata": {},
   "outputs": [
    {
     "name": "stdout",
     "output_type": "stream",
     "text": [
      "{98, 35, 15, 213, 54, 119}\n"
     ]
    }
   ],
   "source": [
    "#Задание 2\n",
    "\n",
    "ids = {'user1': [213, 213, 213, 15, 213], 'user2': [54, 54, 119, 119, 119], 'user3': [213, 98, 98, 35]}\n",
    "\n",
    "all_id = list() #список всех id\n",
    "\n",
    "for user, value in ids.items():\n",
    "    all_id += (value)\n",
    "  \n",
    "print(set(all_id))"
   ]
  },
  {
   "cell_type": "code",
   "execution_count": 66,
   "metadata": {},
   "outputs": [
    {
     "name": "stdout",
     "output_type": "stream",
     "text": [
      "{3: 4, 2: 3}\n",
      "(2, 3)\n",
      "2 - 42.86%\n",
      "3 - 57.14%\n"
     ]
    }
   ],
   "source": [
    "#Задание 3\n",
    "\n",
    "queries = [\n",
    "\n",
    "'смотреть сериалы онлайн',\n",
    "\n",
    "'новости спорта',\n",
    "\n",
    "'афиша кино',\n",
    "\n",
    "'курс доллара',\n",
    "\n",
    "'сериалы этим летом',\n",
    "\n",
    "'курс по питону',\n",
    "\n",
    "'сериалы про спорт',\n",
    "\n",
    "]\n",
    "\n",
    "queries_quantity = {} #словарь с количестом слов в запросе\n",
    "\n",
    "for value in queries: #для каждого запроса\n",
    "    value = len(value.split(' ')) #подсчет количества слов в запросе \n",
    "    if value not in queries_quantity: #если в словаре нет нужного значения создать его\n",
    "        queries_quantity[value] = 0\n",
    "    queries_quantity[value] += 1 #\n",
    "    \n",
    "values, keys = queries_quantity.items() #ключи и значения\n",
    "\n",
    "for key in keys: #Для каждого ключа\n",
    "    print(str(key)+\" - \"+\"{:.4}\".format(queries_quantity[key]/sum(values)*100)+\"%\")"
   ]
  },
  {
   "cell_type": "code",
   "execution_count": 68,
   "metadata": {},
   "outputs": [
    {
     "name": "stdout",
     "output_type": "stream",
     "text": [
      "yandex\n"
     ]
    }
   ],
   "source": [
    "#Задание 4\n",
    "\n",
    "stats = {'facebook': 55, 'yandex': 120, 'vk': 115, 'google': 99, 'email': 42, 'ok': 98}\n",
    "\n",
    "max_value = 0\n",
    "max_key = \"\"\n",
    "\n",
    "for key, value in stats.items():\n",
    "    if value > max_value: \n",
    "        max_value = value\n",
    "        max_key = key\n",
    "\n",
    "print(max_key)"
   ]
  },
  {
   "cell_type": "code",
   "execution_count": 71,
   "metadata": {},
   "outputs": [
    {
     "name": "stdout",
     "output_type": "stream",
     "text": [
      "среднее количество просмотров на пользователя: 5.0\n"
     ]
    }
   ],
   "source": [
    "#Задание 5\n",
    "\n",
    "stream = [\n",
    "\n",
    "'2018-01-01,user1,3',\n",
    "\n",
    "'2018-01-07,user1,4',\n",
    "\n",
    "'2018-03-29,user1,1',\n",
    "\n",
    "'2018-04-04,user1,13',\n",
    "\n",
    "'2018-01-05,user2,7',\n",
    "\n",
    "'2018-06-14,user3,4',\n",
    "\n",
    "'2018-07-02,user3,10',\n",
    "\n",
    "'2018-03-21,user4,19',\n",
    "\n",
    "'2018-03-22,user4,4',\n",
    "\n",
    "'2018-04-22,user4,8',\n",
    "\n",
    "'2018-05-03,user4,9',\n",
    "\n",
    "'2018-05-11,user4,11',\n",
    "\n",
    "]\n",
    "\n",
    "users = []\n",
    "\n",
    "for value in stream:\n",
    "    split_value = value.split(\",\")\n",
    "    if split_value[1] not in users:\n",
    "        users += split_value[1]\n",
    "        \n",
    "print(\"среднее количество просмотров на пользователя: \" + str(len(users)/len(stream)))"
   ]
  },
  {
   "cell_type": "code",
   "execution_count": 72,
   "metadata": {},
   "outputs": [
    {
     "name": "stdout",
     "output_type": "stream",
     "text": [
      "574\n"
     ]
    }
   ],
   "source": [
    "#Задание 6\n",
    "\n",
    "stats = [\n",
    "\n",
    "['2018-01-01', 'google', 25],\n",
    "\n",
    "['2018-01-01', 'yandex', 65],\n",
    "\n",
    "['2018-01-01', 'market', 89],\n",
    "\n",
    "['2018-01-02', 'google', 574],\n",
    "\n",
    "['2018-01-02', 'yandex', 249],\n",
    "\n",
    "['2018-01-02', 'market', 994],\n",
    "\n",
    "['2018-01-03', 'google', 1843],\n",
    "\n",
    "['2018-01-03', 'yandex', 1327],\n",
    "\n",
    "['2018-01-03', 'market', 1764],\n",
    "\n",
    "]\n",
    "\n",
    "data = ['2018-01-02', 'google']\n",
    "\n",
    "for value in stats:\n",
    "    if data[0] == value[0] and data[1] == value[1]:\n",
    "        print(value[2])\n",
    "    "
   ]
  },
  {
   "cell_type": "code",
   "execution_count": null,
   "metadata": {},
   "outputs": [],
   "source": []
  }
 ],
 "metadata": {
  "kernelspec": {
   "display_name": "Python 3",
   "language": "python",
   "name": "python3"
  },
  "language_info": {
   "codemirror_mode": {
    "name": "ipython",
    "version": 3
   },
   "file_extension": ".py",
   "mimetype": "text/x-python",
   "name": "python",
   "nbconvert_exporter": "python",
   "pygments_lexer": "ipython3",
   "version": "3.6.5"
  }
 },
 "nbformat": 4,
 "nbformat_minor": 2
}
